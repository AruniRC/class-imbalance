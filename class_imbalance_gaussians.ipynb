{
 "cells": [
  {
   "cell_type": "markdown",
   "metadata": {
    "collapsed": true
   },
   "source": [
    "# Simulating semi-supervised learning on imbalanced data"
   ]
  },
  {
   "cell_type": "code",
   "execution_count": 1,
   "metadata": {
    "collapsed": true
   },
   "outputs": [],
   "source": [
    "# Create 2-D gaussians example dataset with class imbalance\n",
    "import matplotlib.pyplot as plt\n",
    "import numpy as np\n",
    "\n",
    "\n",
    "# Define 2-D Gaussians\n",
    "mean_A = [0.5, 0.5]\n",
    "cov_A = [[1,0], [0,2]]\n",
    "mean_B = [-2.5, 0.5]\n",
    "cov_B = [[2,0], [0,1]]\n",
    "\n"
   ]
  },
  {
   "cell_type": "code",
   "execution_count": 2,
   "metadata": {
    "collapsed": true
   },
   "outputs": [],
   "source": [
    "def draw_data(NUM_A, NUM_B):\n",
    "    # Draw dataset from pre-defined Gaussians\n",
    "    x_A, y_A = np.random.multivariate_normal(mean_A, cov_A, NUM_A).T\n",
    "    x_B, y_B = np.random.multivariate_normal(mean_B, cov_B, NUM_B).T\n",
    "    data = np.vstack((np.hstack((x_A[:,np.newaxis], y_A[:,np.newaxis])),\n",
    "              np.hstack((x_B[:,np.newaxis], y_B[:,np.newaxis]))))\n",
    "    label = np.concatenate((-np.ones(NUM_A), np.ones(NUM_B)))\n",
    "    return data, label, (x_A, y_A, x_B, y_B)"
   ]
  },
  {
   "cell_type": "markdown",
   "metadata": {},
   "source": [
    "### Generate datasets"
   ]
  },
  {
   "cell_type": "code",
   "execution_count": 3,
   "metadata": {
    "collapsed": true
   },
   "outputs": [],
   "source": [
    "# Generate labeled training dataset\n",
    "NUM_A = 1000\n",
    "NUM_B = 50\n",
    "feat_train, label_train, (x_A, y_A, x_B, y_B) = draw_data(NUM_A, NUM_B)\n",
    "\n",
    "# Generate unlabeled data (10x more than labeled training)\n",
    "NUM_A = 10000\n",
    "NUM_B = 500\n",
    "feat_u, _, (xu_A, yu_A, xu_B, yu_B) = draw_data(NUM_A, NUM_B)\n",
    "\n",
    "# Generate test data (same size as original data)\n",
    "NUM_A = 1000\n",
    "NUM_B = 50\n",
    "feat_t, label_t, (xt_A, yt_A, xt_B, yt_B) = draw_data(NUM_A, NUM_B)\n"
   ]
  },
  {
   "cell_type": "code",
   "execution_count": 13,
   "metadata": {},
   "outputs": [
    {
     "data": {
      "image/png": "[encoded data removed]",
      "text/plain": [
       "<Figure size 432x288 with 3 Axes>"
      ]
     },
     "metadata": {},
     "output_type": "display_data"
    }
   ],
   "source": [
    "# Plot the data\n",
    "\n",
    "plt.subplot(1, 3, 1)\n",
    "plt.plot(x_A, y_A, 'kx')\n",
    "plt.plot(x_B, y_B, 'r+')\n",
    "plt.axis('square')\n",
    "plt.title('Labeled training data')\n",
    "plt.tight_layout()\n",
    "\n",
    "plt.subplot(1, 3, 2)\n",
    "plt.plot(xu_A, yu_A, 'kx', alpha=0.5)\n",
    "plt.plot(xu_B, yu_B, 'r+', alpha=0.5)\n",
    "plt.axis('square')\n",
    "plt.title('Unlabeled data')\n",
    "plt.tight_layout()\n",
    "\n",
    "plt.subplot(1, 3, 3)\n",
    "plt.plot(xt_A, yt_A, 'kx')\n",
    "plt.plot(xt_B, yt_B, 'r+')\n",
    "plt.axis('square')\n",
    "plt.title('Labeled eval data')\n",
    "plt.tight_layout()\n",
    "\n",
    "plt.show()"
   ]
  },
  {
   "cell_type": "markdown",
   "metadata": {},
   "source": [
    "### Supervised model"
   ]
  },
  {
   "cell_type": "code",
   "execution_count": 17,
   "metadata": {},
   "outputs": [
    {
     "name": "stdout",
     "output_type": "stream",
     "text": [
      "[LibLinear]"
     ]
    },
    {
     "data": {
      "text/plain": [
       "LinearSVC(C=1.0, class_weight=None, dual=True, fit_intercept=True,\n",
       "     intercept_scaling=1, loss='hinge', max_iter=1000, multi_class='ovr',\n",
       "     penalty='l2', random_state=0, tol=0.0001, verbose=2)"
      ]
     },
     "execution_count": 17,
     "metadata": {},
     "output_type": "execute_result"
    }
   ],
   "source": [
    "# Train a supervised model\n",
    "from sklearn.svm import LinearSVC\n",
    "model = LinearSVC(random_state=0, loss='hinge', verbose=2)\n",
    "model.fit(feat_train, label_train) # Fit model to labeled training data\n"
   ]
  },
  {
   "cell_type": "markdown",
   "metadata": {},
   "source": [
    "### Semi-supervised model"
   ]
  },
  {
   "cell_type": "code",
   "execution_count": 21,
   "metadata": {},
   "outputs": [
    {
     "name": "stdout",
     "output_type": "stream",
     "text": [
      "[LibLinear]"
     ]
    },
    {
     "data": {
      "text/plain": [
       "LinearSVC(C=1.0, class_weight=None, dual=True, fit_intercept=True,\n",
       "     intercept_scaling=1, loss='hinge', max_iter=1000, multi_class='ovr',\n",
       "     penalty='l2', random_state=0, tol=0.0001, verbose=1)"
      ]
     },
     "execution_count": 21,
     "metadata": {},
     "output_type": "execute_result"
    }
   ],
   "source": [
    "# Semi-supervised learning: \n",
    "\n",
    "# Predict labels for unlabeled data\n",
    "preds_u = model.predict(feat_u)  # y_hat\n",
    "print preds_u.shape\n",
    "print np.unique(preds_u)\n",
    "\n",
    "# Training: original Data + predicted Data\n",
    "model_semi = LinearSVC(random_state=0, loss='hinge', verbose=1)\n",
    "X_new = np.vstack((feat_train, feat_u))\n",
    "y_new = np.concatenate((label_train, preds_u))\n",
    "model_semi.fit(X_new, y_new)\n"
   ]
  },
  {
   "cell_type": "markdown",
   "metadata": {},
   "source": [
    "### Compare performance (single run)"
   ]
  },
  {
   "cell_type": "code",
   "execution_count": 22,
   "metadata": {
    "collapsed": true
   },
   "outputs": [],
   "source": [
    "# Evaluate model scores\n",
    "y_hat = model.decision_function(feat_t)\n",
    "y_hat_semi = model_semi.decision_function(feat_t)"
   ]
  },
  {
   "cell_type": "code",
   "execution_count": 31,
   "metadata": {},
   "outputs": [
    {
     "data": {
      "image/png": "[encoded data removed]",
      "text/plain": [
       "<Figure size 432x288 with 1 Axes>"
      ]
     },
     "metadata": {},
     "output_type": "display_data"
    }
   ],
   "source": [
    "from sklearn.metrics import precision_recall_curve\n",
    "\n",
    "prec, rec, _ = precision_recall_curve(label_t, y_hat)\n",
    "plt.plot(rec, prec, color='b', label='sup')\n",
    "prec, rec, _ = precision_recall_curve(label_t, y_hat_semi)\n",
    "plt.plot(rec, prec, color='r', label='semi-sup')\n",
    "plt.xlabel('Recall')\n",
    "plt.ylabel('Precision')\n",
    "plt.legend()\n",
    "plt.grid()\n",
    "plt.show()"
   ]
  },
  {
   "cell_type": "markdown",
   "metadata": {
    "collapsed": true
   },
   "source": [
    "## Averaged runs of semi-supervised training"
   ]
  },
  {
   "cell_type": "code",
   "execution_count": 39,
   "metadata": {
    "scrolled": true
   },
   "outputs": [
    {
     "name": "stdout",
     "output_type": "stream",
     "text": [
      "[LibLinear][LibLinear][LibLinear][LibLinear][LibLinear][LibLinear][LibLinear][LibLinear][LibLinear][LibLinear][LibLinear][LibLinear][LibLinear][LibLinear][LibLinear][LibLinear][LibLinear][LibLinear][LibLinear][LibLinear][LibLinear][LibLinear][LibLinear][LibLinear][LibLinear][LibLinear][LibLinear][LibLinear][LibLinear][LibLinear][LibLinear][LibLinear][LibLinear][LibLinear][LibLinear][LibLinear][LibLinear][LibLinear][LibLinear][LibLinear][LibLinear][LibLinear][LibLinear][LibLinear][LibLinear][LibLinear][LibLinear][LibLinear][LibLinear][LibLinear][LibLinear][LibLinear][LibLinear][LibLinear][LibLinear][LibLinear][LibLinear][LibLinear][LibLinear][LibLinear][LibLinear][LibLinear][LibLinear][LibLinear][LibLinear][LibLinear][LibLinear][LibLinear][LibLinear][LibLinear][LibLinear][LibLinear][LibLinear][LibLinear][LibLinear][LibLinear][LibLinear][LibLinear][LibLinear][LibLinear][LibLinear][LibLinear][LibLinear][LibLinear][LibLinear][LibLinear][LibLinear][LibLinear][LibLinear][LibLinear][LibLinear][LibLinear][LibLinear][LibLinear][LibLinear][LibLinear][LibLinear][LibLinear][LibLinear][LibLinear][LibLinear][LibLinear][LibLinear][LibLinear][LibLinear][LibLinear][LibLinear][LibLinear][LibLinear][LibLinear][LibLinear][LibLinear][LibLinear][LibLinear][LibLinear][LibLinear][LibLinear][LibLinear][LibLinear][LibLinear][LibLinear][LibLinear][LibLinear][LibLinear][LibLinear][LibLinear][LibLinear][LibLinear][LibLinear][LibLinear][LibLinear][LibLinear][LibLinear][LibLinear][LibLinear][LibLinear][LibLinear][LibLinear][LibLinear][LibLinear][LibLinear][LibLinear][LibLinear][LibLinear][LibLinear][LibLinear][LibLinear][LibLinear][LibLinear][LibLinear][LibLinear][LibLinear][LibLinear][LibLinear][LibLinear][LibLinear][LibLinear][LibLinear][LibLinear][LibLinear][LibLinear][LibLinear][LibLinear][LibLinear][LibLinear][LibLinear][LibLinear][LibLinear][LibLinear][LibLinear][LibLinear][LibLinear][LibLinear][LibLinear][LibLinear][LibLinear][LibLinear][LibLinear][LibLinear][LibLinear][LibLinear][LibLinear][LibLinear][LibLinear][LibLinear][LibLinear][LibLinear][LibLinear][LibLinear][LibLinear][LibLinear][LibLinear][LibLinear][LibLinear][LibLinear][LibLinear][LibLinear][LibLinear][LibLinear][LibLinear][LibLinear][LibLinear][LibLinear][LibLinear][LibLinear][LibLinear][LibLinear][LibLinear][LibLinear][LibLinear][LibLinear][LibLinear][LibLinear][LibLinear][LibLinear][LibLinear][LibLinear][LibLinear][LibLinear][LibLinear][LibLinear][LibLinear][LibLinear][LibLinear][LibLinear][LibLinear][LibLinear][LibLinear][LibLinear][LibLinear][LibLinear][LibLinear][LibLinear][LibLinear][LibLinear][LibLinear][LibLinear][LibLinear][LibLinear][LibLinear][LibLinear][LibLinear][LibLinear][LibLinear][LibLinear][LibLinear][LibLinear][LibLinear][LibLinear][LibLinear][LibLinear][LibLinear][LibLinear][LibLinear][LibLinear][LibLinear][LibLinear][LibLinear][LibLinear][LibLinear][LibLinear][LibLinear][LibLinear][LibLinear][LibLinear][LibLinear][LibLinear][LibLinear][LibLinear][LibLinear][LibLinear][LibLinear][LibLinear][LibLinear][LibLinear][LibLinear][LibLinear][LibLinear][LibLinear][LibLinear][LibLinear][LibLinear][LibLinear][LibLinear][LibLinear][LibLinear][LibLinear][LibLinear][LibLinear][LibLinear][LibLinear][LibLinear][LibLinear][LibLinear][LibLinear][LibLinear][LibLinear][LibLinear][LibLinear][LibLinear][LibLinear][LibLinear][LibLinear][LibLinear][LibLinear][LibLinear][LibLinear][LibLinear][LibLinear][LibLinear][LibLinear][LibLinear][LibLinear][LibLinear][LibLinear][LibLinear][LibLinear][LibLinear][LibLinear][LibLinear][LibLinear][LibLinear][LibLinear][LibLinear][LibLinear][LibLinear][LibLinear][LibLinear][LibLinear][LibLinear][LibLinear][LibLinear][LibLinear][LibLinear][LibLinear][LibLinear][LibLinear][LibLinear][LibLinear][LibLinear][LibLinear][LibLinear][LibLinear][LibLinear][LibLinear][LibLinear][LibLinear][LibLinear][LibLinear][LibLinear][LibLinear][LibLinear][LibLinear][LibLinear][LibLinear][LibLinear][LibLinear][LibLinear][LibLinear][LibLinear][LibLinear][LibLinear][LibLinear][LibLinear][LibLinear][LibLinear][LibLinear][LibLinear][LibLinear][LibLinear][LibLinear][LibLinear][LibLinear][LibLinear][LibLinear][LibLinear][LibLinear][LibLinear][LibLinear][LibLinear][LibLinear][LibLinear][LibLinear][LibLinear][LibLinear][LibLinear][LibLinear][LibLinear][LibLinear][LibLinear][LibLinear][LibLinear][LibLinear][LibLinear][LibLinear][LibLinear][LibLinear][LibLinear][LibLinear][LibLinear][LibLinear][LibLinear][LibLinear][LibLinear][LibLinear][LibLinear][LibLinear][LibLinear][LibLinear][LibLinear][LibLinear][LibLinear][LibLinear][LibLinear][LibLinear][LibLinear][LibLinear][LibLinear][LibLinear][LibLinear][LibLinear][LibLinear][LibLinear][LibLinear][LibLinear][LibLinear][LibLinear][LibLinear][LibLinear][LibLinear][LibLinear][LibLinear][LibLinear][LibLinear][LibLinear][LibLinear][LibLinear][LibLinear][LibLinear][LibLinear][LibLinear][LibLinear][LibLinear][LibLinear][LibLinear][LibLinear][LibLinear][LibLinear][LibLinear][LibLinear][LibLinear][LibLinear][LibLinear][LibLinear][LibLinear][LibLinear][LibLinear][LibLinear][LibLinear][LibLinear][LibLinear][LibLinear][LibLinear][LibLinear][LibLinear][LibLinear][LibLinear][LibLinear][LibLinear][LibLinear][LibLinear][LibLinear][LibLinear][LibLinear][LibLinear][LibLinear][LibLinear][LibLinear][LibLinear][LibLinear][LibLinear][LibLinear][LibLinear][LibLinear][LibLinear][LibLinear][LibLinear][LibLinear][LibLinear][LibLinear][LibLinear][LibLinear][LibLinear][LibLinear][LibLinear][LibLinear][LibLinear][LibLinear][LibLinear][LibLinear][LibLinear][LibLinear][LibLinear][LibLinear][LibLinear][LibLinear][LibLinear][LibLinear][LibLinear][LibLinear][LibLinear][LibLinear][LibLinear][LibLinear][LibLinear][LibLinear][LibLinear][LibLinear][LibLinear][LibLinear][LibLinear][LibLinear][LibLinear][LibLinear][LibLinear][LibLinear][LibLinear][LibLinear][LibLinear][LibLinear][LibLinear][LibLinear][LibLinear][LibLinear][LibLinear][LibLinear][LibLinear][LibLinear][LibLinear][LibLinear][LibLinear][LibLinear][LibLinear][LibLinear][LibLinear][LibLinear][LibLinear][LibLinear][LibLinear][LibLinear][LibLinear][LibLinear][LibLinear][LibLinear][LibLinear][LibLinear][LibLinear][LibLinear][LibLinear][LibLinear][LibLinear][LibLinear][LibLinear][LibLinear][LibLinear][LibLinear][LibLinear][LibLinear][LibLinear][LibLinear][LibLinear][LibLinear][LibLinear][LibLinear][LibLinear][LibLinear][LibLinear][LibLinear][LibLinear][LibLinear][LibLinear][LibLinear][LibLinear][LibLinear][LibLinear][LibLinear][LibLinear][LibLinear][LibLinear][LibLinear][LibLinear][LibLinear][LibLinear][LibLinear][LibLinear][LibLinear][LibLinear][LibLinear][LibLinear][LibLinear][LibLinear][LibLinear][LibLinear][LibLinear][LibLinear][LibLinear][LibLinear][LibLinear][LibLinear][LibLinear][LibLinear][LibLinear][LibLinear][LibLinear][LibLinear][LibLinear][LibLinear][LibLinear][LibLinear][LibLinear][LibLinear][LibLinear][LibLinear][LibLinear][LibLinear][LibLinear][LibLinear][LibLinear][LibLinear][LibLinear][LibLinear][LibLinear][LibLinear][LibLinear][LibLinear][LibLinear][LibLinear][LibLinear][LibLinear][LibLinear][LibLinear][LibLinear][LibLinear][LibLinear][LibLinear][LibLinear][LibLinear][LibLinear][LibLinear][LibLinear][LibLinear][LibLinear][LibLinear][LibLinear][LibLinear][LibLinear][LibLinear][LibLinear][LibLinear][LibLinear][LibLinear][LibLinear][LibLinear][LibLinear][LibLinear][LibLinear][LibLinear][LibLinear][LibLinear][LibLinear][LibLinear][LibLinear][LibLinear][LibLinear][LibLinear][LibLinear][LibLinear][LibLinear][LibLinear][LibLinear][LibLinear][LibLinear][LibLinear][LibLinear][LibLinear][LibLinear][LibLinear][LibLinear][LibLinear][LibLinear][LibLinear][LibLinear][LibLinear][LibLinear][LibLinear][LibLinear][LibLinear][LibLinear][LibLinear][LibLinear][LibLinear][LibLinear][LibLinear][LibLinear][LibLinear][LibLinear][LibLinear][LibLinear][LibLinear][LibLinear][LibLinear][LibLinear][LibLinear][LibLinear][LibLinear][LibLinear][LibLinear][LibLinear][LibLinear][LibLinear][LibLinear][LibLinear][LibLinear][LibLinear][LibLinear][LibLinear][LibLinear][LibLinear][LibLinear][LibLinear][LibLinear][LibLinear][LibLinear][LibLinear][LibLinear][LibLinear][LibLinear][LibLinear][LibLinear][LibLinear][LibLinear][LibLinear][LibLinear][LibLinear][LibLinear][LibLinear]"
     ]
    },
    {
     "name": "stdout",
     "output_type": "stream",
     "text": [
      "[LibLinear][LibLinear][LibLinear][LibLinear][LibLinear][LibLinear][LibLinear][LibLinear][LibLinear][LibLinear][LibLinear][LibLinear][LibLinear][LibLinear][LibLinear][LibLinear][LibLinear][LibLinear][LibLinear][LibLinear][LibLinear][LibLinear][LibLinear][LibLinear][LibLinear][LibLinear][LibLinear][LibLinear][LibLinear][LibLinear][LibLinear][LibLinear][LibLinear][LibLinear][LibLinear][LibLinear][LibLinear][LibLinear][LibLinear][LibLinear][LibLinear][LibLinear][LibLinear][LibLinear][LibLinear][LibLinear][LibLinear][LibLinear][LibLinear][LibLinear][LibLinear][LibLinear][LibLinear][LibLinear][LibLinear][LibLinear][LibLinear][LibLinear][LibLinear][LibLinear][LibLinear][LibLinear][LibLinear][LibLinear][LibLinear][LibLinear][LibLinear][LibLinear][LibLinear][LibLinear][LibLinear][LibLinear][LibLinear][LibLinear][LibLinear][LibLinear][LibLinear][LibLinear][LibLinear][LibLinear][LibLinear][LibLinear][LibLinear][LibLinear][LibLinear][LibLinear][LibLinear][LibLinear][LibLinear][LibLinear][LibLinear][LibLinear][LibLinear][LibLinear][LibLinear][LibLinear][LibLinear][LibLinear][LibLinear][LibLinear][LibLinear][LibLinear][LibLinear][LibLinear][LibLinear][LibLinear][LibLinear][LibLinear][LibLinear][LibLinear][LibLinear][LibLinear][LibLinear][LibLinear][LibLinear][LibLinear][LibLinear][LibLinear][LibLinear][LibLinear][LibLinear][LibLinear][LibLinear][LibLinear][LibLinear][LibLinear][LibLinear][LibLinear][LibLinear][LibLinear][LibLinear][LibLinear][LibLinear][LibLinear][LibLinear][LibLinear][LibLinear][LibLinear][LibLinear][LibLinear][LibLinear][LibLinear][LibLinear][LibLinear][LibLinear][LibLinear][LibLinear][LibLinear][LibLinear][LibLinear][LibLinear][LibLinear][LibLinear][LibLinear][LibLinear][LibLinear][LibLinear][LibLinear][LibLinear][LibLinear][LibLinear][LibLinear][LibLinear][LibLinear][LibLinear][LibLinear][LibLinear][LibLinear][LibLinear][LibLinear][LibLinear][LibLinear][LibLinear][LibLinear][LibLinear][LibLinear][LibLinear][LibLinear][LibLinear][LibLinear][LibLinear][LibLinear][LibLinear][LibLinear][LibLinear][LibLinear][LibLinear][LibLinear][LibLinear][LibLinear][LibLinear][LibLinear][LibLinear][LibLinear][LibLinear][LibLinear][LibLinear][LibLinear][LibLinear][LibLinear][LibLinear][LibLinear][LibLinear][LibLinear][LibLinear][LibLinear][LibLinear][LibLinear][LibLinear][LibLinear][LibLinear][LibLinear][LibLinear][LibLinear][LibLinear][LibLinear][LibLinear][LibLinear][LibLinear][LibLinear][LibLinear][LibLinear][LibLinear][LibLinear][LibLinear][LibLinear][LibLinear][LibLinear][LibLinear][LibLinear][LibLinear][LibLinear][LibLinear][LibLinear][LibLinear][LibLinear][LibLinear][LibLinear][LibLinear][LibLinear][LibLinear][LibLinear][LibLinear][LibLinear][LibLinear][LibLinear][LibLinear][LibLinear][LibLinear][LibLinear][LibLinear][LibLinear][LibLinear][LibLinear]"
     ]
    }
   ],
   "source": [
    "from sklearn.metrics import average_precision_score\n",
    "\n",
    "NUM_TRIAL = 1000\n",
    "\n",
    "ap_sup = np.zeros(NUM_TRIAL)\n",
    "ap_semi = np.zeros(NUM_TRIAL)\n",
    "\n",
    "for i in range(NUM_TRIAL):\n",
    "    # Generate labeled training dataset\n",
    "    NUM_A = 1000\n",
    "    NUM_B = 50\n",
    "    feat_train, label_train, (x_A, y_A, x_B, y_B) = draw_data(NUM_A, NUM_B)\n",
    "\n",
    "    # Generate unlabeled data (10x more than labeled training)\n",
    "    NUM_A = 10000\n",
    "    NUM_B = 500\n",
    "    feat_u, _, (xu_A, yu_A, xu_B, yu_B) = draw_data(NUM_A, NUM_B)\n",
    "\n",
    "    # Generate test data (same size as original data)\n",
    "    NUM_A = 1000\n",
    "    NUM_B = 50\n",
    "    feat_t, label_t, (xt_A, yt_A, xt_B, yt_B) = draw_data(NUM_A, NUM_B)\n",
    "    \n",
    "    # Supervised model\n",
    "    model = LinearSVC(random_state=0, loss='hinge')\n",
    "    model.fit(feat_train, label_train) # Fit model to labeled training data\n",
    "    \n",
    "    # Predict labels for unlabeled data\n",
    "    preds_u = model.predict(feat_u)  # y_hat\n",
    "\n",
    "    # Semi-supervised model: original Data + predicted Data\n",
    "    model_semi = LinearSVC(random_state=0, loss='hinge')\n",
    "    X_new = np.vstack((feat_train, feat_u))\n",
    "    y_new = np.concatenate((label_train, preds_u))\n",
    "    model_semi.fit(X_new, y_new)\n",
    "    \n",
    "    # Evaluate model scores\n",
    "    y_hat = model.decision_function(feat_t)\n",
    "    y_hat_semi = model_semi.decision_function(feat_t)\n",
    "    \n",
    "    ap_sup[i] = average_precision_score(label_t, y_hat)\n",
    "    ap_semi[i] = average_precision_score(label_t, y_hat_semi)\n",
    "    "
   ]
  },
  {
   "cell_type": "code",
   "execution_count": 40,
   "metadata": {},
   "outputs": [
    {
     "name": "stdout",
     "output_type": "stream",
     "text": [
      "AP (sup): 0.790864 +/- 0.050456\n",
      "AP (semi): 0.790993 +/- 0.050472\n"
     ]
    }
   ],
   "source": [
    "print 'AP (sup): %f +/- %f' % (np.mean(ap_sup), np.std(ap_sup))\n",
    "print 'AP (semi): %f +/- %f' % (np.mean(ap_semi), np.std(ap_semi))"
   ]
  },
  {
   "cell_type": "code",
   "execution_count": 50,
   "metadata": {},
   "outputs": [
    {
     "name": "stdout",
     "output_type": "stream",
     "text": [
      "843\n",
      "207\n"
     ]
    }
   ],
   "source": [
    "noise_vec = np.random.uniform(0, 1, label_train.shape)\n",
    "mask= 2* (noise_vec < 0.8) - 1\n",
    "\n",
    "print np.sum(mask==1)\n",
    "print np.sum(mask==-1)"
   ]
  },
  {
   "cell_type": "markdown",
   "metadata": {},
   "source": [
    "## Semi-supervised with noisy labels"
   ]
  },
  {
   "cell_type": "code",
   "execution_count": 51,
   "metadata": {},
   "outputs": [],
   "source": [
    "from sklearn.metrics import average_precision_score\n",
    "\n",
    "NUM_TRIAL = 1000\n",
    "LABEL_NOISE = 0.8  # 80% correct, 20% incorrect\n",
    "\n",
    "ap_sup = np.zeros(NUM_TRIAL)\n",
    "ap_semi = np.zeros(NUM_TRIAL)\n",
    "\n",
    "for i in range(NUM_TRIAL):\n",
    "    # Generate labeled training dataset\n",
    "    NUM_A = 1000\n",
    "    NUM_B = 50\n",
    "    feat_train, label_train, (x_A, y_A, x_B, y_B) = draw_data(NUM_A, NUM_B)\n",
    "    \n",
    "    # add noise to labels\n",
    "    noise_vec = np.random.uniform(0, 1, label_train.shape)\n",
    "    mask= 2* (noise_vec < 0.8) - 1\n",
    "    \n",
    "\n",
    "    # Generate unlabeled data (10x more than labeled training)\n",
    "    NUM_A = 10000\n",
    "    NUM_B = 500\n",
    "    feat_u, _, (xu_A, yu_A, xu_B, yu_B) = draw_data(NUM_A, NUM_B)\n",
    "\n",
    "    # Generate test data (same size as original data)\n",
    "    NUM_A = 1000\n",
    "    NUM_B = 50\n",
    "    feat_t, label_t, (xt_A, yt_A, xt_B, yt_B) = draw_data(NUM_A, NUM_B)\n",
    "    \n",
    "    # Supervised model\n",
    "    model = LinearSVC(random_state=0, loss='hinge')\n",
    "    model.fit(feat_train, label_train) # Fit model to labeled training data\n",
    "    \n",
    "    # Predict labels for unlabeled data\n",
    "    preds_u = model.predict(feat_u)  # y_hat\n",
    "\n",
    "    # Semi-supervised model: original Data + predicted Data\n",
    "    model_semi = LinearSVC(random_state=0, loss='hinge')\n",
    "    X_new = np.vstack((feat_train, feat_u))\n",
    "    y_new = np.concatenate((label_train, preds_u))\n",
    "    model_semi.fit(X_new, y_new)\n",
    "    \n",
    "    # Evaluate model scores\n",
    "    y_hat = model.decision_function(feat_t)\n",
    "    y_hat_semi = model_semi.decision_function(feat_t)\n",
    "    \n",
    "    ap_sup[i] = average_precision_score(label_t, y_hat)\n",
    "    ap_semi[i] = average_precision_score(label_t, y_hat_semi)\n",
    "    \n"
   ]
  },
  {
   "cell_type": "code",
   "execution_count": 52,
   "metadata": {},
   "outputs": [
    {
     "name": "stdout",
     "output_type": "stream",
     "text": [
      "AP (sup-noisy): 0.790396 +/- 0.048246\n",
      "AP (semi-noisy): 0.790694 +/- 0.048173\n"
     ]
    }
   ],
   "source": [
    "print 'AP (sup-noisy): %f +/- %f' % (np.mean(ap_sup), np.std(ap_sup))\n",
    "print 'AP (semi-noisy): %f +/- %f' % (np.mean(ap_semi), np.std(ap_semi))"
   ]
  }
 ],
 "metadata": {
  "kernelspec": {
   "display_name": "Python 2",
   "language": "python",
   "name": "python2"
  },
  "language_info": {
   "codemirror_mode": {
    "name": "ipython",
    "version": 2
   },
   "file_extension": ".py",
   "mimetype": "text/x-python",
   "name": "python",
   "nbconvert_exporter": "python",
   "pygments_lexer": "ipython2",
   "version": "2.7.13"
  }
 },
 "nbformat": 4,
 "nbformat_minor": 2
}
