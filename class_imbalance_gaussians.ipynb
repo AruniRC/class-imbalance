{
 "cells": [
  {
   "cell_type": "markdown",
   "metadata": {
    "collapsed": true
   },
   "source": [
    "# Simulating semi-supervised learning on imbalanced data"
   ]
  },
  {
   "cell_type": "code",
   "execution_count": 65,
   "metadata": {
    "collapsed": true
   },
   "outputs": [],
   "source": [
    "# Create 2-D gaussians example dataset with class imbalance\n",
    "import matplotlib.pyplot as plt\n",
    "import numpy as np\n",
    "\n",
    "\n",
    "# Define 2-D Gaussians\n",
    "mean_A = [0.5, 0.5]\n",
    "cov_A = [[1,0], [0,2]]\n",
    "mean_B = [-2.5, 0.5]\n",
    "cov_B = [[2,0], [0,1]]\n",
    "\n"
   ]
  },
  {
   "cell_type": "code",
   "execution_count": 66,
   "metadata": {
    "collapsed": true
   },
   "outputs": [],
   "source": [
    "def draw_data(NUM_A, NUM_B):\n",
    "    # Draw dataset from pre-defined Gaussians\n",
    "    x_A, y_A = np.random.multivariate_normal(mean_A, cov_A, NUM_A).T\n",
    "    x_B, y_B = np.random.multivariate_normal(mean_B, cov_B, NUM_B).T\n",
    "    data = np.vstack((np.hstack((x_A[:,np.newaxis], y_A[:,np.newaxis])),\n",
    "              np.hstack((x_B[:,np.newaxis], y_B[:,np.newaxis]))))\n",
    "    label = np.concatenate((-np.ones(NUM_A), np.ones(NUM_B)))\n",
    "    return data, label, (x_A, y_A, x_B, y_B)"
   ]
  },
  {
   "cell_type": "markdown",
   "metadata": {},
   "source": [
    "### Generate datasets"
   ]
  },
  {
   "cell_type": "code",
   "execution_count": 67,
   "metadata": {
    "collapsed": true
   },
   "outputs": [],
   "source": [
    "# Generate labeled training dataset\n",
    "NUM_A = 1000\n",
    "NUM_B = 50\n",
    "feat_train, label_train, (x_A, y_A, x_B, y_B) = draw_data(NUM_A, NUM_B)\n",
    "\n",
    "# Generate unlabeled data (10x more than labeled training)\n",
    "NUM_A = 10000\n",
    "NUM_B = 500\n",
    "feat_u, _, (xu_A, yu_A, xu_B, yu_B) = draw_data(NUM_A, NUM_B)\n",
    "\n",
    "# Generate test data (same size as original data)\n",
    "NUM_A = 1000\n",
    "NUM_B = 50\n",
    "feat_t, label_t, (xt_A, yt_A, xt_B, yt_B) = draw_data(NUM_A, NUM_B)\n"
   ]
  },
  {
   "cell_type": "code",
   "execution_count": 68,
   "metadata": {},
   "outputs": [
    {
     "data": {
      "image/png": "[encoded data removed]",
      "text/plain": [
       "<Figure size 432x288 with 3 Axes>"
      ]
     },
     "metadata": {},
     "output_type": "display_data"
    }
   ],
   "source": [
    "# Plot the data\n",
    "\n",
    "plt.subplot(1, 3, 1)\n",
    "plt.plot(x_A, y_A, 'kx')\n",
    "plt.plot(x_B, y_B, 'r+')\n",
    "plt.axis('square')\n",
    "plt.title('Labeled training data')\n",
    "plt.tight_layout()\n",
    "\n",
    "plt.subplot(1, 3, 2)\n",
    "plt.plot(xu_A, yu_A, 'kx', alpha=0.5)\n",
    "plt.plot(xu_B, yu_B, 'r+', alpha=0.5)\n",
    "plt.axis('square')\n",
    "plt.title('Unlabeled data')\n",
    "plt.tight_layout()\n",
    "\n",
    "plt.subplot(1, 3, 3)\n",
    "plt.plot(xt_A, yt_A, 'kx')\n",
    "plt.plot(xt_B, yt_B, 'r+')\n",
    "plt.axis('square')\n",
    "plt.title('Labeled eval data')\n",
    "plt.tight_layout()\n",
    "\n",
    "plt.show()"
   ]
  },
  {
   "cell_type": "markdown",
   "metadata": {},
   "source": [
    "### Supervised model"
   ]
  },
  {
   "cell_type": "code",
   "execution_count": 69,
   "metadata": {},
   "outputs": [
    {
     "name": "stdout",
     "output_type": "stream",
     "text": [
      "[LibLinear]"
     ]
    },
    {
     "data": {
      "text/plain": [
       "LinearSVC(C=1.0, class_weight=None, dual=True, fit_intercept=True,\n",
       "     intercept_scaling=1, loss='hinge', max_iter=1000, multi_class='ovr',\n",
       "     penalty='l2', random_state=0, tol=0.0001, verbose=2)"
      ]
     },
     "execution_count": 69,
     "metadata": {},
     "output_type": "execute_result"
    }
   ],
   "source": [
    "# Train a supervised model\n",
    "from sklearn.svm import LinearSVC\n",
    "model = LinearSVC(random_state=0, loss='hinge', verbose=2)\n",
    "model.fit(feat_train, label_train) # Fit model to labeled training data\n"
   ]
  },
  {
   "cell_type": "markdown",
   "metadata": {},
   "source": [
    "### Semi-supervised model"
   ]
  },
  {
   "cell_type": "code",
   "execution_count": 70,
   "metadata": {},
   "outputs": [
    {
     "name": "stdout",
     "output_type": "stream",
     "text": [
      "(10500,)\n",
      "[-1.  1.]\n",
      "[LibLinear]"
     ]
    },
    {
     "data": {
      "text/plain": [
       "LinearSVC(C=1.0, class_weight=None, dual=True, fit_intercept=True,\n",
       "     intercept_scaling=1, loss='hinge', max_iter=1000, multi_class='ovr',\n",
       "     penalty='l2', random_state=0, tol=0.0001, verbose=1)"
      ]
     },
     "execution_count": 70,
     "metadata": {},
     "output_type": "execute_result"
    }
   ],
   "source": [
    "# Semi-supervised learning: \n",
    "\n",
    "# Predict labels for unlabeled data\n",
    "preds_u = model.predict(feat_u)  # y_hat\n",
    "print preds_u.shape\n",
    "print np.unique(preds_u)\n",
    "\n",
    "# Training: original Data + predicted Data\n",
    "model_semi = LinearSVC(random_state=0, loss='hinge', verbose=1)\n",
    "X_new = np.vstack((feat_train, feat_u))\n",
    "y_new = np.concatenate((label_train, preds_u))\n",
    "model_semi.fit(X_new, y_new)\n"
   ]
  },
  {
   "cell_type": "markdown",
   "metadata": {},
   "source": [
    "### Compare performance (single run)"
   ]
  },
  {
   "cell_type": "code",
   "execution_count": 71,
   "metadata": {
    "collapsed": true
   },
   "outputs": [],
   "source": [
    "# Evaluate model scores\n",
    "y_hat = model.decision_function(feat_t)\n",
    "y_hat_semi = model_semi.decision_function(feat_t)"
   ]
  },
  {
   "cell_type": "code",
   "execution_count": 72,
   "metadata": {},
   "outputs": [
    {
     "data": {
      "image/png": "[encoded data removed]",
      "text/plain": [
       "<Figure size 432x288 with 1 Axes>"
      ]
     },
     "metadata": {},
     "output_type": "display_data"
    }
   ],
   "source": [
    "from sklearn.metrics import precision_recall_curve\n",
    "\n",
    "prec, rec, _ = precision_recall_curve(label_t, y_hat)\n",
    "plt.plot(rec, prec, color='b', label='sup')\n",
    "prec, rec, _ = precision_recall_curve(label_t, y_hat_semi)\n",
    "plt.plot(rec, prec, color='r', label='semi-sup')\n",
    "plt.xlabel('Recall')\n",
    "plt.ylabel('Precision')\n",
    "plt.legend()\n",
    "plt.grid()\n",
    "plt.show()"
   ]
  },
  {
   "cell_type": "markdown",
   "metadata": {
    "collapsed": true
   },
   "source": [
    "## Averaged runs of semi-supervised training"
   ]
  },
  {
   "cell_type": "code",
   "execution_count": 73,
   "metadata": {
    "collapsed": true,
    "scrolled": true
   },
   "outputs": [],
   "source": [
    "from sklearn.metrics import average_precision_score\n",
    "\n",
    "NUM_TRIAL = 1000\n",
    "\n",
    "ap_sup = np.zeros(NUM_TRIAL)\n",
    "ap_semi = np.zeros(NUM_TRIAL)\n",
    "\n",
    "for i in range(NUM_TRIAL):\n",
    "    print i,\n",
    "    \n",
    "    # Generate labeled training dataset\n",
    "    NUM_A = 1000\n",
    "    NUM_B = 50\n",
    "    feat_train, label_train, (x_A, y_A, x_B, y_B) = draw_data(NUM_A, NUM_B)\n",
    "\n",
    "    # Generate unlabeled data (10x more than labeled training)\n",
    "    NUM_A = 10000\n",
    "    NUM_B = 500\n",
    "    feat_u, _, (xu_A, yu_A, xu_B, yu_B) = draw_data(NUM_A, NUM_B)\n",
    "\n",
    "    # Generate test data (same size as original data)\n",
    "    NUM_A = 1000\n",
    "    NUM_B = 50\n",
    "    feat_t, label_t, (xt_A, yt_A, xt_B, yt_B) = draw_data(NUM_A, NUM_B)\n",
    "    \n",
    "    # Supervised model\n",
    "    model = LinearSVC(random_state=0, loss='hinge')\n",
    "    model.fit(feat_train, label_train) # Fit model to labeled training data\n",
    "    \n",
    "    # Predict labels for unlabeled data\n",
    "    preds_u = model.predict(feat_u)  # y_hat\n",
    "\n",
    "    # Semi-supervised model: original Data + predicted Data\n",
    "    model_semi = LinearSVC(random_state=0, loss='hinge')\n",
    "    X_new = np.vstack((feat_train, feat_u))\n",
    "    y_new = np.concatenate((label_train, preds_u))\n",
    "    model_semi.fit(X_new, y_new)\n",
    "    \n",
    "    # Evaluate model scores\n",
    "    y_hat = model.decision_function(feat_t)\n",
    "    y_hat_semi = model_semi.decision_function(feat_t)\n",
    "    \n",
    "    ap_sup[i] = average_precision_score(label_t, y_hat)\n",
    "    ap_semi[i] = average_precision_score(label_t, y_hat_semi)\n",
    "    "
   ]
  },
  {
   "cell_type": "code",
   "execution_count": 12,
   "metadata": {},
   "outputs": [
    {
     "name": "stdout",
     "output_type": "stream",
     "text": [
      "AP (sup): 0.789462 +/- 0.048653\n",
      "AP (semi): 0.789776 +/- 0.048579\n"
     ]
    }
   ],
   "source": [
    "print 'AP (sup): %f +/- %f' % (np.mean(ap_sup), np.std(ap_sup))\n",
    "print 'AP (semi): %f +/- %f' % (np.mean(ap_semi), np.std(ap_semi))"
   ]
  },
  {
   "cell_type": "code",
   "execution_count": 13,
   "metadata": {},
   "outputs": [
    {
     "name": "stdout",
     "output_type": "stream",
     "text": [
      "824\n",
      "226\n"
     ]
    }
   ],
   "source": [
    "noise_vec = np.random.uniform(0, 1, label_train.shape)\n",
    "mask= 2* (noise_vec < 0.8) - 1\n",
    "\n",
    "print np.sum(mask==1)\n",
    "print np.sum(mask==-1)"
   ]
  },
  {
   "cell_type": "markdown",
   "metadata": {},
   "source": [
    "## Semi-supervised with noisy labels"
   ]
  },
  {
   "cell_type": "code",
   "execution_count": 63,
   "metadata": {},
   "outputs": [
    {
     "name": "stdout",
     "output_type": "stream",
     "text": [
      "0 1 2 3 4 5 6 7 8 9 10 11 12 13 14 15 16 17 18 19 20 21 22 23 24 25 26 27 28 29 30 31 32 33 34 35 36 37 38 39 40 41 42 43 44 45 46 47 48 49 50 51 52 53 54 55 56 57 58 59 60 61 62 63 64 65 66 67 68 69 70 71 72 73 74 75 76 77 78 79 80 81 82 83 84 85 86 87 88 89 90 91 92 93 94 95 96 97 98 99 100 101 102 103 104 105 106 107 108 109 110 111 112 113 114 115 116 117 118 119 120 121 122 123 124 125 126 127 128 129 130 131 132 133 134 135 136 137 138 139 140 141 142 143 144 145 146 147 148 149 150 151 152 153 154 155 156 157 158 159 160 161 162 163 164 165 166 167 168 169 170 171 172 173 174 175 176 177 178 179 180 181 182 183 184 185 186 187 188 189 190 191 192 193 194 195 196 197 198 199 200 201 202 203 204 205 206 207 208 209 210 211 212 213 214 215 216 217 218 219 220 221 222 223 224 225 226 227 228 229 230 231 232 233 234 235 236 237 238 239 240 241 242 243 244 245 246 247 248 249 250 251 252 253 254 255 256 257 258 259 260 261 262 263 264 265 266 267 268 269 270 271 272 273 274 275 276 277 278 279 280 281 282 283 284 285 286 287 288 289 290 291 292 293 294 295 296 297 298 299 300 301 302 303 304 305 306 307 308 309 310 311 312 313 314 315 316 317 318 319 320 321 322 323 324 325 326 327 328 329 330 331 332 333 334 335 336 337 338 339 340 341 342 343 344 345 346 347 348 349 350 351 352 353 354 355 356 357 358 359 360 361 362 363 364 365 366 367 368 369 370 371 372 373 374 375 376 377 378 379 380 381 382 383 384 385 386 387 388 389 390 391 392 393 394 395 396 397 398 399 400 401 402 403 404 405 406 407 408 409 410 411 412 413 414 415 416 417 418 419 420 421 422 423 424 425 426 427 428 429 430 431 432 433 434 435 436 437 438 439 440 441 442 443 444 445 446 447 448 449 450 451 452 453 454 455 456 457 458 459 460 461 462 463 464 465 466 467 468 469 470 471 472 473 474 475 476 477 478 479 480 481 482 483 484 485 486 487 488 489 490 491 492 493 494 495 496 497 498 499 500 501 502 503 504 505 506 507 508 509 510 511 512 513 514 515 516 517 518 519 520 521 522 523 524 525 526 527 528 529 530 531 532 533 534 535 536 537 538 539 540 541 542 543 544 545 546 547 548 549 550 551 552 553 554 555 556 557 558 559 560 561 562 563 564 565 566 567 568 569 570 571 572 573 574 575 576 577 578 579 580 581 582 583 584 585 586 587 588 589 590 591 592 593 594 595 596 597 598 599 600 601 602 603 604 605 606 607 608 609 610 611 612 613 614 615 616 617 618 619 620 621 622 623 624 625 626 627 628 629 630 631 632 633 634 635 636 637 638 639 640 641 642 643 644 645 646 647 648 649 650 651 652 653 654 655 656 657 658 659 660 661 662 663 664 665 666 667 668 669 670 671 672 673 674 675 676 677 678 679 680 681 682 683 684 685 686 687 688 689 690 691 692 693 694 695 696 697 698 699 700 701 702 703 704 705 706 707 708 709 710 711 712 713 714 715 716 717 718 719 720 721 722 723 724 725 726 727 728 729 730 731 732 733 734 735 736 737 738 739 740 741 742 743 744 745 746 747 748 749 750 751 752 753 754 755 756 757 758 759 760 761 762 763 764 765 766 767 768 769 770 771 772 773 774 775 776 777 778 779 780 781 782 783 784 785 786 787 788 789 790 791 792 793 794 795 796 797 798 799 800 801 802 803 804 805 806 807 808 809 810 811 812 813 814 815 816 817 818 819 820 821 822 823 824 825 826 827 828 829 830 831 832 833 834 835 836 837 838 839 840 841 842 843 844 845 846 847 848 849 850 851 852 853 854 855 856 857 858 859 860 861 862 863 864 865 866 867 868 869 870 871 872 873 874 875 876 877 878 879 880 881 882 883 884 885 886 887 888 889 890 891 892 893 894 895 896 897 898 899 900 901 902 903 904 905 906 907 908 909 910 911 912 913 914 915 916 917 918 919 920 921 922 923 924 925 926 927 928 929 930 931 932 933 934 935 936 937 938 939 940 941 942 943 944 945 946 947 948 949 950 951 952 953 954 955 956 957 958 959 960 961 962 963 964 965 966 967 968 969 970 971 972 973 974 975 976 977 978 979 980 981 982 983 984 985 986 987 988 989 990 991 992 993 994 995 996 997 998 999\n"
     ]
    }
   ],
   "source": [
    "from sklearn.metrics import average_precision_score\n",
    "\n",
    "NUM_TRIAL = 1000\n",
    "LABEL_NOISE = 0.1  \n",
    "\n",
    "ap_sup = np.zeros(NUM_TRIAL)\n",
    "ap_semi = np.zeros(NUM_TRIAL)\n",
    "\n",
    "for i in range(NUM_TRIAL):\n",
    "    print i,\n",
    "    \n",
    "    # Generate labeled training dataset\n",
    "    NUM_A = 1000\n",
    "    NUM_B = 100\n",
    "    feat_train, label_train, (x_A, y_A, x_B, y_B) = draw_data(NUM_A, NUM_B)\n",
    "    \n",
    "    # add noise to labels - flip +1 to -1 (and vice versa)\n",
    "    noise_vec = np.random.uniform(0, 1, label_train.shape)\n",
    "    mask = 2* (noise_vec < (1-LABEL_NOISE) ) - 1\n",
    "    label_train = label_train * mask\n",
    "    \n",
    "\n",
    "    # Generate unlabeled data (10x more than labeled training)\n",
    "    NUM_A = 10000\n",
    "    NUM_B = 500\n",
    "    feat_u, _, (xu_A, yu_A, xu_B, yu_B) = draw_data(NUM_A, NUM_B)\n",
    "\n",
    "    # Generate test data (same size as original data)\n",
    "    NUM_A = 1000\n",
    "    NUM_B = 100\n",
    "    feat_t, label_t, (xt_A, yt_A, xt_B, yt_B) = draw_data(NUM_A, NUM_B)\n",
    "    \n",
    "    # Supervised model\n",
    "    model = LinearSVC(random_state=0, loss='hinge')\n",
    "    model.fit(feat_train, label_train) # Fit model to labeled training data\n",
    "    \n",
    "    # Predict labels for unlabeled data\n",
    "    preds_u = model.predict(feat_u)  # y_hat\n",
    "\n",
    "    # Semi-supervised model: original Data + predicted Data\n",
    "    model_semi = LinearSVC(random_state=0, loss='hinge')\n",
    "    X_new = np.vstack((feat_train, feat_u))\n",
    "    y_new = np.concatenate((label_train, preds_u))\n",
    "    model_semi.fit(X_new, y_new)\n",
    "    \n",
    "    # Evaluate model scores\n",
    "    y_hat = model.decision_function(feat_t)\n",
    "    y_hat_semi = model_semi.decision_function(feat_t)\n",
    "    \n",
    "    ap_sup[i] = average_precision_score(label_t, y_hat)\n",
    "    ap_semi[i] = average_precision_score(label_t, y_hat_semi)\n",
    "    \n"
   ]
  },
  {
   "cell_type": "code",
   "execution_count": 64,
   "metadata": {},
   "outputs": [
    {
     "name": "stdout",
     "output_type": "stream",
     "text": [
      "AP (sup-noisy): 0.711493 +/- 0.242256\n",
      "AP (semi-noisy): 0.493944 +/- 0.347945\n"
     ]
    }
   ],
   "source": [
    "print 'AP (sup-noisy): %f +/- %f' % (np.mean(ap_sup), np.std(ap_sup))\n",
    "print 'AP (semi-noisy): %f +/- %f' % (np.mean(ap_semi), np.std(ap_semi))"
   ]
  },
  {
   "cell_type": "code",
   "execution_count": null,
   "metadata": {
    "collapsed": true
   },
   "outputs": [],
   "source": []
  }
 ],
 "metadata": {
  "kernelspec": {
   "display_name": "Python 2",
   "language": "python",
   "name": "python2"
  },
  "language_info": {
   "codemirror_mode": {
    "name": "ipython",
    "version": 2
   },
   "file_extension": ".py",
   "mimetype": "text/x-python",
   "name": "python",
   "nbconvert_exporter": "python",
   "pygments_lexer": "ipython2",
   "version": "2.7.13"
  }
 },
 "nbformat": 4,
 "nbformat_minor": 2
}
